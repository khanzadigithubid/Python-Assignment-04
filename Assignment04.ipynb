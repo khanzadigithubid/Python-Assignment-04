{
  "nbformat": 4,
  "nbformat_minor": 0,
  "metadata": {
    "colab": {
      "provenance": []
    },
    "kernelspec": {
      "name": "python3",
      "display_name": "Python 3"
    },
    "language_info": {
      "name": "python"
    }
  },
  "cells": [
    {
      "cell_type": "markdown",
      "source": [
        "KHANZADI WAZIR ALI\n",
        "\n",
        "00272819\n",
        "\n",
        "ASSIGNMENT 04\n",
        "\n"
      ],
      "metadata": {
        "id": "rIGw-TW27hpR"
      }
    },
    {
      "cell_type": "markdown",
      "source": [
        "Assignment Overview:\n",
        "\n",
        "1.List Methods Practice\n",
        "\n",
        "2.Dictionary Methods Practice\n",
        "\n",
        "3.Shopping Discount Calculator\n",
        "  \n",
        "4.For Loop Assignment - Number Patterns\n",
        "\n",
        "5.While Loop Assignment - Interactive Game\n",
        "\n",
        "6.Student Grade Management System"
      ],
      "metadata": {
        "id": "p0DRVvjv9oQV"
      }
    },
    {
      "cell_type": "markdown",
      "source": [
        "1) List Methods Practice"
      ],
      "metadata": {
        "id": "Hfga-zMr9QjG"
      }
    },
    {
      "cell_type": "markdown",
      "source": [
        "Tasks: Complete the following tasks using Python list methods. Write your code in a single Python file.\n",
        "\n",
        "1.Create and Modify Lists\n",
        "\n",
        "2.List Operations\n",
        "\n",
        "3.Sorting and Counting\n",
        "\n",
        "4.List Manipulation"
      ],
      "metadata": {
        "id": "2thjDkPz9W9z"
      }
    },
    {
      "cell_type": "markdown",
      "source": [
        "**Task 1**"
      ],
      "metadata": {
        "id": "3T26zI9298vu"
      }
    },
    {
      "cell_type": "markdown",
      "source": [
        "Create and Modify Lists  \n",
        "\n",
        "o Create a list called fruits with the items: \"apple\", \"banana\", \"orange\"\n",
        "\n",
        "o Add \"grape\" to the end of the list using an appropriate method\n",
        "\n",
        "o Insert \"mango\" at position 2 in the list\n",
        "\n",
        "o Remove \"banana\" from the list\n",
        "\n",
        "o Print the final list"
      ],
      "metadata": {
        "id": "Qry499Ih-H0L"
      }
    },
    {
      "cell_type": "code",
      "source": [
        "# Create list of fruits\n",
        "fruits_list = [\"apple\",\"banana\",\"orange\"]\n",
        "# print the inital list\n",
        "print(f\"Initial list: {fruits_list}\")\n",
        "# Add element into list\n",
        "fruits_list.append(\"grape\")\n",
        "# print list to check the add element\n",
        "print(f\"Adding grapes to the end of the list: {fruits_list}\")\n",
        "# insert elemnet at index 2\n",
        "fruits_list.insert(2,\"Mango\")\n",
        "print(f\"Add mango at position 2 in the list: {fruits_list} \")\n",
        "# remove element from list\n",
        "fruits_list.remove(\"banana\")\n",
        "print(f\"Remove banana from the list: {fruits_list}\")\n",
        "\n",
        "print(f\"Final list: {fruits_list}\")"
      ],
      "metadata": {
        "colab": {
          "base_uri": "https://localhost:8080/"
        },
        "id": "-jbCpxTw-mYA",
        "outputId": "0b3bc9c8-8b6a-4819-bc83-e74bf6978e62"
      },
      "execution_count": null,
      "outputs": [
        {
          "output_type": "stream",
          "name": "stdout",
          "text": [
            "Initial list: ['apple', 'banana', 'orange']\n",
            "Adding grapes to the end of the list: ['apple', 'banana', 'orange', 'grape']\n",
            "Add mango at position 2 in the list: ['apple', 'banana', 'Mango', 'orange', 'grape'] \n",
            "Remove banana from the list: ['apple', 'Mango', 'orange', 'grape']\n",
            "Final list: ['apple', 'Mango', 'orange', 'grape']\n"
          ]
        }
      ]
    },
    {
      "cell_type": "markdown",
      "source": [
        "List Operations  \n",
        "\n",
        "o Create a list numbers with values: 10, 20, 30, 40, 50\n",
        "\n",
        "o Create a second list more_numbers with values: 60, 70, 80\n",
        "\n",
        "o Combine both lists into a new list called all_numbers\n",
        "\n",
        "o Make a copy of all_numbers called numbers_copy\n",
        "\n",
        "o Reverse the order of numbers_copy\n",
        "o Print both all_numbers and numbers_copy"
      ],
      "metadata": {
        "id": "A5mgrU24BGQf"
      }
    },
    {
      "cell_type": "code",
      "source": [
        "# create a list of numbers\n",
        "numbers = [10,20,30,40,50]\n",
        "# print inital list\n",
        "print(f\"Initial Number List: {numbers}\")\n",
        "# create a  second list more_numbers\n",
        "more_numbers = [60,70,80]\n",
        "# print list\n",
        "print(\"More_numbers: \",more_numbers)\n",
        "# combine both lists into a new list called all_numbers\n",
        "all_numbers = numbers + more_numbers\n",
        "# display combine list\n",
        "print(f\"Combine both list: {all_numbers}\")\n",
        "# make a copy of all_numbers called numbers_copy\n",
        "numbers_copy = all_numbers.copy()\n",
        "print(f\"Copy of all_numbers list: {numbers_copy}\")\n",
        "# reverse the order of numbers_copy o Print both all_numbers and numbers_copy\n",
        "numbers_copy.reverse()\n",
        "print(f\"Reverse number copy: {numbers_copy}\")"
      ],
      "metadata": {
        "id": "RaAzwWpCBRyG"
      },
      "execution_count": null,
      "outputs": []
    },
    {
      "cell_type": "markdown",
      "source": [
        "Sorting and Counting  \n",
        "\n",
        "o Create a list scores with these values: 85, 92, 78, 65, 92, 85, 74\n",
        "\n",
        "o Sort the list in ascending order\n",
        "\n",
        "o Sort the list in descending order\n",
        "\n",
        "o Count how many times 92 appears in the list\n",
        "\n",
        "o Find and print the highest and lowest scores\n",
        "\n",
        "o Print the sorted list"
      ],
      "metadata": {
        "id": "3E3TOARniLuY"
      }
    },
    {
      "cell_type": "code",
      "source": [
        "# create Scores list\n",
        "score_list = [85, 92, 78, 65, 92, 85, 74]\n",
        "# Print the list\n",
        "print(\"Original scores: \", score_list)\n",
        "# show the list in ascending order\n",
        "ascending_list = sorted(score_list)\n",
        "print(f\"Scores in a ascending order: {ascending_list}\")\n",
        "# display list in descending order\n",
        "descending_list = sorted(score_list, reverse = True)\n",
        "# display the count of same number\n",
        "count_number = score_list.count(92)\n",
        "print(\"Number of times 92 appears is : \", count_number)\n",
        "\n",
        "# show the highest and lowest scores\n",
        "highest_score = max(score_list)\n",
        "lowest_score = min(score_list)\n",
        "print(f\"highest score: {highest_score}\")\n",
        "print(f\"lowest score: {lowest_score}\")"
      ],
      "metadata": {
        "colab": {
          "base_uri": "https://localhost:8080/"
        },
        "id": "Thv3Efc9ibXd",
        "outputId": "4abfe488-b773-4794-c7ae-c347d8f6d4e8"
      },
      "execution_count": null,
      "outputs": [
        {
          "output_type": "stream",
          "name": "stdout",
          "text": [
            "Original scores:  [85, 92, 78, 65, 92, 85, 74]\n",
            "Scores in a ascending order: [65, 74, 78, 85, 85, 92, 92]\n",
            "Number of times 92 appears is :  2\n",
            "highest score: 92\n",
            "lowest score: 65\n"
          ]
        }
      ]
    },
    {
      "cell_type": "markdown",
      "source": [
        "List Manipulation\n",
        "\n",
        "Create a list letters with values: \"a\", \"b\", \"c\", \"d\", \"e\"\n",
        "\n",
        "Use slicing to create a new list with only the first three letters\n",
        "\n",
        "Use slicing to create another list with only the last two letters\n",
        "\n",
        "Find and print the index of \"c\" in the list\n",
        "\n",
        "Replace \"d\" with \"z\" in the original list\n",
        "\n",
        "Print the modified list"
      ],
      "metadata": {
        "id": "MsfwU3rsytWi"
      }
    },
    {
      "cell_type": "code",
      "source": [
        "# create a list of letters\n",
        "letters_list = [\"a\", \"b\", \"c\", \"d\", \"e\"]\n",
        "print(\"original list: \",letters_list )\n",
        "# use slicing to get the first 3 letters\n",
        "slicing_letters = letters_list[0:3]\n",
        "print(f\"first three letters: {slicing_letters}\")\n",
        "# use slicing to get last 2 letters\n",
        "last_letters = letters_list[-2:]\n",
        "print(f\"last two letters: {last_letters}\")\n",
        "# find teh index of  \"c\" using index method\n",
        "index_of_c = letters_list.index(\"c\")\n",
        "print(f\"Index of C: {index_of_c} \")\n",
        "# Replace \"d\" with \"z\" in the original list\n",
        "letters_list[3] =\"z\"\n",
        "print(\"Replace d with letter z \",letters_list)"
      ],
      "metadata": {
        "colab": {
          "base_uri": "https://localhost:8080/"
        },
        "id": "6ki6gdB0z7pf",
        "outputId": "9fe4e32d-2b66-4a95-a0fb-ec21ca6bc061"
      },
      "execution_count": null,
      "outputs": [
        {
          "output_type": "stream",
          "name": "stdout",
          "text": [
            "original list:  ['a', 'b', 'c', 'd', 'e']\n",
            "first three letters: ['a', 'b', 'c']\n",
            "last two letters: ['d', 'e']\n",
            "Index of C: 2 \n",
            "Replace d with letter z  ['a', 'b', 'c', 'z', 'e']\n"
          ]
        }
      ]
    },
    {
      "cell_type": "markdown",
      "source": [
        "2) Dictionary Methods Practice\n",
        "\n",
        "Complete the following tasks using Python dictionary methods.\n",
        "\n",
        "Tasks:\n",
        "\n",
        "Create and Access Dictionaries\n",
        "\n",
        "Modify Dictionary Values\n",
        "\n",
        "Dictionary Operations\n",
        "\n",
        "Dictionary Methods"
      ],
      "metadata": {
        "id": "AbyqxfCW0Xxg"
      }
    },
    {
      "cell_type": "markdown",
      "source": [
        "Create and Access Dictionaries\n",
        "\n",
        "Create a dictionary called student with these key-value pairs:\n",
        "\n",
        "\"name\": \"John\" \"age\": 20 \"grade\": \"A\" \"courses\": [\"Math\", \"Science\", \"History\"]\n",
        "\n",
        "Print the student's name\n",
        "\n",
        "Print the list of courses\n",
        "\n",
        "Add a new key-value pair: \"email\": \"john@example.com\"\n",
        "\n",
        "Print the entire dictionary"
      ],
      "metadata": {
        "id": "Y-5zFye60lKs"
      }
    },
    {
      "cell_type": "code",
      "source": [
        "# create dictionary  called student\n",
        "student = {\n",
        "    \"name\": \"John\",\n",
        "    \"age\": 20,\n",
        "    \"grade\": \"A\",\n",
        "    \"courses\": [\"Math\", \"Science\", \"History\"]\n",
        "}\n",
        "# print the name of student\n",
        "print(\"Student's name: \",student[\"name\"])\n",
        "# print the list of courses\n",
        "print(\"Avaiable Courses: \", student[\"courses\"])\n",
        "# Add new pair\n",
        "student[\"email\"] = \"john@example.com\"\n",
        "# display student dictionary\n",
        "print(\"Updated student dictionary\")"
      ],
      "metadata": {
        "colab": {
          "base_uri": "https://localhost:8080/"
        },
        "id": "cyrRJHer0sCl",
        "outputId": "5e66ba03-bc8c-4c18-d374-8a16634818c9"
      },
      "execution_count": null,
      "outputs": [
        {
          "output_type": "stream",
          "name": "stdout",
          "text": [
            "Student's name:  John\n",
            "Avaiable Courses:  ['Math', 'Science', 'History']\n",
            "Updated student dictionary\n"
          ]
        }
      ]
    },
    {
      "cell_type": "markdown",
      "source": [
        "Modify Dictionary Values\n",
        "\n",
        "Change the student's age to 21\n",
        "\n",
        "Add a new course \"Computer Science\" to the courses list\n",
        "\n",
        "Update the grade to \"A+\"\n",
        "\n",
        "Print the modified dictionary"
      ],
      "metadata": {
        "id": "KW1RWgVD0y70"
      }
    },
    {
      "cell_type": "code",
      "source": [
        "# modify dic\n",
        "student = {\n",
        "    \"name\": \"John\",\n",
        "    \"age\": 20,\n",
        "    \"grade\": \"A\",\n",
        "    \"courses\": [\"Math\", \"Science\", \"History\"]\n",
        "}\n",
        "# update age\n",
        "student[\"age\"] = 21\n",
        "# print the updated age\n",
        "print(\"Change student age successfully:  \",student[\"age\"])\n",
        "# Add new course in courses list\n",
        "student[\"courses\"].append(\"Computer Science\")\n",
        "print(\"Updated Courses list: \",student[\"courses\"])\n",
        "# Update student grade\n",
        "student[\"grade\"] = \"A+\"\n",
        "print(\"Modified Student Info:\", student)"
      ],
      "metadata": {
        "colab": {
          "base_uri": "https://localhost:8080/"
        },
        "id": "zuyWwEBp03xC",
        "outputId": "26722657-652a-492d-ed94-e74ae0de8502"
      },
      "execution_count": null,
      "outputs": [
        {
          "output_type": "stream",
          "name": "stdout",
          "text": [
            "Change student age successfully:   21\n",
            "Updated Courses list:  ['Math', 'Science', 'History', 'Computer Science']\n",
            "Modified Student Info: {'name': 'John', 'age': 21, 'grade': 'A+', 'courses': ['Math', 'Science', 'History', 'Computer Science']}\n"
          ]
        }
      ]
    },
    {
      "cell_type": "markdown",
      "source": [
        "Dictionary Operations\n",
        "\n",
        "Create a second dictionary student_address with these key-value pairs:\n",
        "\n",
        "\"street\": \"123 College Ave\" \"city\": \"New York\" \"zip\": \"10001\"\n",
        "\n",
        "Combine both dictionaries into a new dictionary called student_info\n",
        "\n",
        "Remove the \"zip\" key from student_info\n",
        "\n",
        "Check if \"phone\" exists in the dictionary\n",
        "Print the final dictionary"
      ],
      "metadata": {
        "id": "L-yXmROt09J0"
      }
    },
    {
      "cell_type": "code",
      "source": [
        "student ={\n",
        "    \"name\": \"John\",\n",
        "    \"age\": 20,\n",
        "    \"grade\": \"A\",\n",
        "    \"courses\": [\"Math\", \"Science\", \"History\"]\n",
        "}\n",
        "student_address = {\n",
        "    \"street\": \"123 College Ave\",\n",
        "    \"city\": \"New York\",\n",
        "    \"zip\": \"10001\"\n",
        "}\n",
        "# Combine both dictionary\n",
        "student_info = {**student , **student_address}\n",
        "print(\"student_information: \",student_info)\n",
        "\n",
        "# now we remove zip key from dic\n",
        "student_info.pop(\"zip\")\n",
        "print(student_info)\n",
        "# use if else to check condition\n",
        "if \"phone\" in student_info:\n",
        "  print(\"Phone number is availabe...\")\n",
        "else:\n",
        "  print(\"Phone number not found...\")\n",
        "\n",
        "# print the updated dictionary\n",
        "print(\"Updated dictionary: \",student_info)"
      ],
      "metadata": {
        "colab": {
          "base_uri": "https://localhost:8080/"
        },
        "id": "yJJi_Lk41INj",
        "outputId": "ae87be86-db12-4696-f615-729f23a86806"
      },
      "execution_count": null,
      "outputs": [
        {
          "output_type": "stream",
          "name": "stdout",
          "text": [
            "student_information:  {'name': 'John', 'age': 20, 'grade': 'A', 'courses': ['Math', 'Science', 'History'], 'street': '123 College Ave', 'city': 'New York', 'zip': '10001'}\n",
            "{'name': 'John', 'age': 20, 'grade': 'A', 'courses': ['Math', 'Science', 'History'], 'street': '123 College Ave', 'city': 'New York'}\n",
            "Phone number not found...\n",
            "Updated dictionary:  {'name': 'John', 'age': 20, 'grade': 'A', 'courses': ['Math', 'Science', 'History'], 'street': '123 College Ave', 'city': 'New York'}\n"
          ]
        }
      ]
    },
    {
      "cell_type": "markdown",
      "source": [
        "Dictionary Methods\n",
        "\n",
        "Create a dictionary word_count with these key-value pairs:\n",
        "\n",
        "\"hello\": 5 \"world\": 10 \"python\": 15\n",
        "\n",
        "Get all keys and print them as a list\n",
        "\n",
        "Get all values and print them as a list\n",
        "\n",
        "Get all key-value pairs and print them\n",
        "\n",
        "Make a copy of the dictionary\n",
        "\n",
        "Clear the original dictionary\n",
        "\n",
        "Print both dictionaries to verify one is empty and one is a copy"
      ],
      "metadata": {
        "id": "_ZRcPQTb1PHJ"
      }
    },
    {
      "cell_type": "code",
      "source": [
        "# create a dictionary\n",
        "word_count = {\n",
        "    \"hello\": 5,\n",
        "    \"world\": 10,\n",
        "    \"python\": 15\n",
        "}\n",
        "# get all keys and print\n",
        "keys = list(word_count.keys())\n",
        "print(\"Keys: \",keys)\n",
        "# print all values\n",
        "values = list(word_count.values())\n",
        "print(\"Values: \", values)\n",
        "#  print key values\n",
        "items = word_count.items()\n",
        "print(\"Key Value pairs: \",items)\n",
        "# now make a copy of word count\n",
        "word_count_copy = word_count.copy()\n",
        "# clear original dic\n",
        "word_count.clear()\n",
        "\n",
        "print(\"Original Dictionary:\" ,word_count)\n",
        "print(\"Copy Dictionary:\" ,word_count_copy)"
      ],
      "metadata": {
        "colab": {
          "base_uri": "https://localhost:8080/"
        },
        "id": "XjC7xb6G1cKY",
        "outputId": "b70409e1-bffb-4c47-e2d5-c879423ee514"
      },
      "execution_count": null,
      "outputs": [
        {
          "output_type": "stream",
          "name": "stdout",
          "text": [
            "Keys:  ['hello', 'world', 'python']\n",
            "Values:  [5, 10, 15]\n",
            "Key Value pairs:  dict_items([('hello', 5), ('world', 10), ('python', 15)])\n",
            "Original Dictionary: {}\n",
            "Copy Dictionary: {'hello': 5, 'world': 10, 'python': 15}\n"
          ]
        }
      ]
    },
    {
      "cell_type": "markdown",
      "source": [
        "3) Shopping Discount Calculator\n",
        "\n",
        "Create a Python program that calculates the final price after applicable discounts. Do not use any functions - just use variables and if statements.\n",
        "\n",
        "Tasks\n",
        "\n",
        "Set up the initial variables:\n",
        "\n",
        "Apply discount rules using if statements:\n",
        "\n",
        "Calculate and display:"
      ],
      "metadata": {
        "id": "CDLZyu771gkX"
      }
    },
    {
      "cell_type": "code",
      "source": [
        "# Program that calculates prices and return final price\n",
        "\n",
        "# Create variables\n",
        "purchase_amount = 125\n",
        "is_loyalty_member = True\n",
        "day_of_week= \"Sunday\"\n",
        "is_holiday_season = True\n",
        "\n",
        "\n",
        "final_price = purchase_amount\n",
        "# intial set total disocunt\n",
        "total_discount = 0\n",
        "\n",
        "print(\"Original Purchasen Amount: $\", purchase_amount)\n",
        "\n",
        "# Applying discount using if else statement\n",
        "\n",
        "if purchase_amount > 100:\n",
        "  discount = purchase_amount * 0.10\n",
        "  print(\"10% discount over $100 spend: $ \",discount )\n",
        "  total_discount +=discount\n",
        "  final_price -= discount\n",
        "\n",
        "elif purchase_amount > 50:\n",
        "  discount = purchase_amount * 0.5\n",
        "  print(\"5% discount over $50 spend: $ \",discount )\n",
        "  total_discount +=discount\n",
        "  final_price -= discount\n",
        "\n",
        "if is_loyalty_member:\n",
        "    loyalty_discount = purchase_amount * 0.05\n",
        "    print(\"5% loyalty member discount: $\", loyalty_discount)\n",
        "    total_discount += loyalty_discount\n",
        "    final_price -= loyalty_discount\n",
        "\n",
        "if day_of_week == \"Saturday\" or day_of_week == \"Sunday\":\n",
        "  weekend_discount = purchase_amount * 0.02\n",
        "  print(\"2% weekend discount: $ \",weekend_discount)\n",
        "  total_discount +=weekend_discount\n",
        "  final_price -= weekend_discount\n",
        "\n",
        "if is_holiday_season:\n",
        "  holiday_discount = purchase_amount * 0.08\n",
        "  print(\"8% holiday season discount: $\", holiday_discount)\n",
        "  total_discount += holiday_discount\n",
        "  final_price -= holiday_discount\n",
        "\n",
        "# Calculate and display prices\n",
        "print(\"\\nTotal Discount: $\",total_discount)\n",
        "print(\"Final Price after discounts: $\",final_price)"
      ],
      "metadata": {
        "colab": {
          "base_uri": "https://localhost:8080/"
        },
        "id": "PVvWNbKX1qbO",
        "outputId": "2dc93a19-b5ae-4427-bb2d-7b0d65d20954"
      },
      "execution_count": null,
      "outputs": [
        {
          "output_type": "stream",
          "name": "stdout",
          "text": [
            "Original Purchasen Amount: $ 125\n",
            "10% discount over $100 spend: $  12.5\n",
            "5% loyalty member discount: $ 6.25\n",
            "2% weekend discount: $  2.5\n",
            "8% holiday season discount: $ 10.0\n",
            "\n",
            "Total Discount: $ 31.25\n",
            "Final Price after discounts: $ 93.75\n"
          ]
        }
      ]
    },
    {
      "cell_type": "markdown",
      "source": [
        "4) For Loop Assignment - Number Patterns\n",
        "\n",
        "Assignment Overview:\n",
        "\n",
        "In this assignment, you will create number patterns using for loops in Python.\n",
        "\n",
        "Write a Python program that generates the following patterns using for loops:\n",
        "\n",
        "Pattern 1: Counting Numbers\n",
        "\n",
        "Print numbers from 1 to 10 on a single line.\n",
        "\n",
        "Pattern 2: Multiplication Table\n",
        "\n",
        "Create a multiplication table for the number 5 (from 1 to 10)."
      ],
      "metadata": {
        "id": "Xci0FVX51utU"
      }
    },
    {
      "cell_type": "code",
      "source": [
        "# Counting Numbers\n",
        "# we use range method to generate number\n",
        "for i in range(1,11):\n",
        "  print(i, end=\" \")"
      ],
      "metadata": {
        "colab": {
          "base_uri": "https://localhost:8080/"
        },
        "id": "QvemOyYo2CqQ",
        "outputId": "f1ae12bb-9cec-419f-dc5e-e4dda4399edf"
      },
      "execution_count": null,
      "outputs": [
        {
          "output_type": "stream",
          "name": "stdout",
          "text": [
            "1 2 3 4 5 6 7 8 9 10 "
          ]
        }
      ]
    },
    {
      "cell_type": "code",
      "source": [
        "# multipliciation table\n",
        "print(\"Table: \")\n",
        "for i in range(1, 11):\n",
        "  print(\"5 x\" ,i, \"=\",5 * i)"
      ],
      "metadata": {
        "colab": {
          "base_uri": "https://localhost:8080/"
        },
        "id": "rPTkH0eZ2PLh",
        "outputId": "9cccf6d8-72a9-422a-f7e3-7aff4ce2dfb1"
      },
      "execution_count": null,
      "outputs": [
        {
          "output_type": "stream",
          "name": "stdout",
          "text": [
            "Table: \n",
            "5 x 1 = 5\n",
            "5 x 2 = 10\n",
            "5 x 3 = 15\n",
            "5 x 4 = 20\n",
            "5 x 5 = 25\n",
            "5 x 6 = 30\n",
            "5 x 7 = 35\n",
            "5 x 8 = 40\n",
            "5 x 9 = 45\n",
            "5 x 10 = 50\n"
          ]
        }
      ]
    },
    {
      "cell_type": "markdown",
      "source": [
        "5) While Loop Assignment Interactive Game\n",
        "\n",
        "Create a simple number guessing game using a while loop.\n",
        "\n",
        "Write a Python program that:\n",
        "\n",
        "Sets a \"secret number\" (you can choose any number between 1 and 50)\n",
        "\n",
        "Asks the player to guess the number\n",
        "\n",
        "Tells the player if their guess is too high or too low\n",
        "\n",
        "Keeps asking until the player guesses correctly\n",
        "\n",
        "Keeps track of how many guesses it took"
      ],
      "metadata": {
        "id": "o2yn2j__2hjc"
      }
    },
    {
      "cell_type": "code",
      "source": [
        "# import random to generate randomly number\n",
        "import random\n",
        "\n",
        "def main():\n",
        "    # create variable to store secret_number\n",
        "    secret_number = random.randint(1, 50)\n",
        "    print(\"I'm thinking of a number between 1 and 50...\\n\")\n",
        "    # ask user to enter number\n",
        "    guess_message = \"Enter a guess Number: \"\n",
        "    guess = int(input(guess_message))\n",
        "    guess_count = 1 #track guesses\n",
        "    # use while loops\n",
        "    while guess != secret_number:\n",
        "        if guess < secret_number:\n",
        "            print(\"Your guess is too low .\")\n",
        "        else:\n",
        "            print(\"Your guess is too high.\")\n",
        "\n",
        "        print()\n",
        "        guess = int(input(\"Enter a new guess: \"))\n",
        "        guess_count += 1\n",
        "\n",
        "    print(f\"\\n Congrats! The number is {secret_number}.\")\n",
        "    print(f\"You guessed it in {guess_count} tries!\")\n",
        "\n",
        "# Run the game\n",
        "if __name__ == \"__main__\":\n",
        "    main()"
      ],
      "metadata": {
        "colab": {
          "base_uri": "https://localhost:8080/"
        },
        "id": "a-TZaxH72mTA",
        "outputId": "b16c040a-a399-4e75-e1be-3c80fce7dfa8"
      },
      "execution_count": null,
      "outputs": [
        {
          "metadata": {
            "tags": null
          },
          "name": "stdout",
          "output_type": "stream",
          "text": [
            "I'm thinking of a number between 1 and 50...\n",
            "\n",
            "Your guess is too low .\n",
            "\n",
            "Your guess is too low .\n",
            "\n",
            "Your guess is too high.\n",
            "\n"
          ]
        }
      ]
    },
    {
      "cell_type": "markdown",
      "source": [
        "Student Grade Management System\n",
        "\n",
        "In this assignment, you will create a simple student grade management system using Python lists and dictionaries. This will help you understand how these data structures work together to organize and manage information."
      ],
      "metadata": {
        "id": "SsnEcy1o2qGB"
      }
    },
    {
      "cell_type": "code",
      "source": [
        "#  create a simple student grade management system\n",
        "print(\"\\n---------- Student Grade Management System -----------\")\n",
        "# student list\n",
        "students = [\n",
        "    {\n",
        "        \"name\": \"Ahsan\",\n",
        "        \"id\": 222,\n",
        "        \"grades\": {\n",
        "            \"Math\": 64,\n",
        "            \"English\": 87,\n",
        "            \"Science\": 77\n",
        "        }\n",
        "    },\n",
        "    {\n",
        "        \"name\": \"Sikandar\",\n",
        "        \"id\": 223,\n",
        "        \"grades\": {\n",
        "            \"Math\": 56,\n",
        "            \"English\": 78,\n",
        "            \"Science\": 77\n",
        "        }\n",
        "    },\n",
        "    {\n",
        "        \"name\": \"Fatima\",\n",
        "        \"id\": 224,\n",
        "        \"grades\": {\n",
        "            \"Math\": 60,\n",
        "            \"English\": 75,\n",
        "            \"Science\": 82\n",
        "        }\n",
        "    }\n",
        "]\n",
        "\n",
        "# students with their grades\n",
        "print(\"\\nAll Students with their Grades:\")\n",
        "for student in students:\n",
        "    print(f\"Student Name: {student['name']} Student Id: (ID: {student['id']}) Student Grades: {student['grades']}\")\n",
        "\n",
        "# display  Average grade for each student\n",
        "print(\"\\nAverage Grade per Student:\")\n",
        "highest_avg = 0\n",
        "top_student = None\n",
        "for student in students:\n",
        "    # get student grades values by using values method\n",
        "    grades = student[\"grades\"].values()\n",
        "    # find the average of grades\n",
        "    average = sum(grades) / len(grades)\n",
        "    print(f\"{student['name']}: {average:.2f}\")\n",
        "\n",
        "    # get the top studnet\n",
        "    if average > highest_avg:\n",
        "        highest_avg = average\n",
        "        top_student = student[\"name\"]\n",
        "\n",
        "# Student with highest average\n",
        "print(f\"\\nTop Student: {top_student} with average {highest_avg}\")\n",
        "\n",
        "# Students with average above 80\n",
        "print(\"\\nStudents with average > 80:\")\n",
        "for student in students:\n",
        "    grades = student[\"grades\"].values()\n",
        "    average = sum(grades) / len(grades)\n",
        "    if average > 80:\n",
        "        print(f\"{student['name']}\")\n",
        "\n",
        "# Average grade for a specific course, e.g. Math\n",
        "course = \"Math\"\n",
        "total = 0\n",
        "count = 0\n",
        "for student in students:\n",
        "    if course in student[\"grades\"]:\n",
        "        total += student[\"grades\"][course]\n",
        "        count += 1\n",
        "if count > 0:\n",
        "    print(f\"\\nAverage grade in {course}: {total / count:.2f}\")\n",
        "else:\n",
        "    print(f\"\\nNo grades found for course: {course}\")\n",
        "\n",
        "# Add a new student in student list\n",
        "new_student = {\n",
        "    \"name\": \"Khanzadi\",\n",
        "    \"id\": 225,\n",
        "    \"grades\": {\n",
        "        \"Math\": 67,\n",
        "        \"English\": 78,\n",
        "        \"Science\": 83\n",
        "    }\n",
        "}\n",
        "# use append method to add new studnet in list\n",
        "students.append(new_student)\n",
        "print(f\"\\nNew student add successfully:  {new_student['name']}\")"
      ],
      "metadata": {
        "id": "aXiRE1rW2z3D"
      },
      "execution_count": null,
      "outputs": []
    }
  ]
}